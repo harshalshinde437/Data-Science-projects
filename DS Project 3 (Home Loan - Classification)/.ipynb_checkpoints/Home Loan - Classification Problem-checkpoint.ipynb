{
 "cells": [
  {
   "cell_type": "markdown",
   "id": "optimum-baseline",
   "metadata": {},
   "source": [
    "## Dream Housing Finance company\n",
    "\n",
    "### Problem Statement\n",
    "***About Company***\n",
    "* Dream Housing Finance company deals in all home loans.\n",
    "* They have presence across all urban, semi urban and rural areas. \n",
    "* Customer first apply for home loan after that company validates the customer eligibility for loan.\n",
    "\n",
    "### Problem\n",
    "* Company wants to automate the loan eligibility process (real time) based on customer detail provided while filling online application form. \n",
    "* These details are Gender, Marital Status, Education, Number of Dependents, Income, Loan Amount, Credit History and others. \n",
    "* To automate this process, they have given a problem to identify the customers segments, those are eligible for loan amount so that they can specifically target these customers. \n",
    "\n",
    "**_Here they have provided a partial data set._**\n",
    "* ***Data set taken from : https://datahack.analyticsvidhya.com/contest/practice-problem-loan-prediction-iii/***\n"
   ]
  },
  {
   "cell_type": "code",
   "execution_count": 1,
   "id": "better-renewal",
   "metadata": {},
   "outputs": [],
   "source": [
    "import pandas as pd"
   ]
  },
  {
   "cell_type": "code",
   "execution_count": 2,
   "id": "contemporary-dating",
   "metadata": {},
   "outputs": [],
   "source": [
    "df = pd.read_csv(\"loan_data_set.csv\") #reading csv file"
   ]
  },
  {
   "cell_type": "code",
   "execution_count": 3,
   "id": "stuffed-milwaukee",
   "metadata": {},
   "outputs": [
    {
     "name": "stdout",
     "output_type": "stream",
     "text": [
      "<class 'pandas.core.frame.DataFrame'>\n",
      "RangeIndex: 617 entries, 0 to 616\n",
      "Data columns (total 13 columns):\n",
      " #   Column             Non-Null Count  Dtype  \n",
      "---  ------             --------------  -----  \n",
      " 0   Loan_ID            617 non-null    object \n",
      " 1   Gender             604 non-null    object \n",
      " 2   Married            614 non-null    object \n",
      " 3   Dependents         602 non-null    object \n",
      " 4   Education          617 non-null    object \n",
      " 5   Self_Employed      585 non-null    object \n",
      " 6   ApplicantIncome    617 non-null    int64  \n",
      " 7   CoapplicantIncome  617 non-null    float64\n",
      " 8   LoanAmount         595 non-null    float64\n",
      " 9   Loan_Amount_Term   603 non-null    float64\n",
      " 10  Credit_History     567 non-null    float64\n",
      " 11  Property_Area      617 non-null    object \n",
      " 12  Loan_Status        617 non-null    object \n",
      "dtypes: float64(4), int64(1), object(8)\n",
      "memory usage: 62.8+ KB\n"
     ]
    }
   ],
   "source": [
    "df.info() #information about data frame"
   ]
  },
  {
   "cell_type": "code",
   "execution_count": 4,
   "id": "rolled-stopping",
   "metadata": {},
   "outputs": [
    {
     "data": {
      "text/plain": [
       "Loan_ID               0\n",
       "Gender               13\n",
       "Married               3\n",
       "Dependents           15\n",
       "Education             0\n",
       "Self_Employed        32\n",
       "ApplicantIncome       0\n",
       "CoapplicantIncome     0\n",
       "LoanAmount           22\n",
       "Loan_Amount_Term     14\n",
       "Credit_History       50\n",
       "Property_Area         0\n",
       "Loan_Status           0\n",
       "dtype: int64"
      ]
     },
     "execution_count": 4,
     "metadata": {},
     "output_type": "execute_result"
    }
   ],
   "source": [
    "df.isnull().sum() #numbers of null values in every column"
   ]
  },
  {
   "cell_type": "code",
   "execution_count": 5,
   "id": "hybrid-supplier",
   "metadata": {},
   "outputs": [
    {
     "data": {
      "text/plain": [
       "(617, 13)"
      ]
     },
     "execution_count": 5,
     "metadata": {},
     "output_type": "execute_result"
    }
   ],
   "source": [
    "df.shape\n",
    "# df_encoded.shape"
   ]
  },
  {
   "cell_type": "markdown",
   "id": "light-brunswick",
   "metadata": {},
   "source": [
    "## Data Wrangling / Data Cleaning"
   ]
  },
  {
   "cell_type": "code",
   "execution_count": 6,
   "id": "intended-mapping",
   "metadata": {},
   "outputs": [],
   "source": [
    "#creating copy of DataFrame for Data Cleaning operations\n",
    "df_encoded = df.copy()"
   ]
  },
  {
   "cell_type": "code",
   "execution_count": 7,
   "id": "confidential-wrestling",
   "metadata": {},
   "outputs": [
    {
     "data": {
      "text/plain": [
       "Male      492\n",
       "Female    112\n",
       "Name: Gender, dtype: int64"
      ]
     },
     "execution_count": 7,
     "metadata": {},
     "output_type": "execute_result"
    }
   ],
   "source": [
    "#filling the null values with the value which majorly occures\n",
    "#.value_counts() gives you a count of values avaliable in column\n",
    "df_encoded['Gender'].value_counts() \n",
    "# df_encoded['Married'].value_counts()\n",
    "# df_encoded['Dependents'].value_counts()\n",
    "# df_encoded['Self_Employed'].value_counts()\n",
    "# df_encoded['Loan_Amount_Term'].value_counts()\n",
    "# df_encoded['Credit_History'].value_counts()"
   ]
  },
  {
   "cell_type": "code",
   "execution_count": 8,
   "id": "middle-malpractice",
   "metadata": {},
   "outputs": [],
   "source": [
    "df_encoded['Gender'].fillna('Male',inplace = True) # filling the all null values with 'Male' parameter\n",
    "df_encoded['Married'].fillna('Yes', inplace = True) # Filling the all null values with majorly occured 'Yes' parameter\n",
    "df_encoded['Dependents'].fillna(0, inplace = True) # Filling the all null values with majorly occured '0' parameter\n",
    "df_encoded['Self_Employed'].fillna('No', inplace = True) # Filling the all null values with majorly occured 'No' parameter\n",
    "df_encoded['Credit_History'].fillna(1.0, inplace = True) # Filling the all null values with majorly occured '1.0' parameter"
   ]
  },
  {
   "cell_type": "code",
   "execution_count": 9,
   "id": "sound-adelaide",
   "metadata": {},
   "outputs": [],
   "source": [
    "# We can't get properly the most occured value using df_encoded['LoanAmount'].value_counts() in LoanAmount column\n",
    "# so we have other option to fill that NULL places with average value from that column \n",
    "df_encoded['LoanAmount'].fillna(df_encoded['LoanAmount'].mean(), inplace = True)\n",
    "\n",
    "# Same thing we will do in loan_Amount_Term column\n",
    "df_encoded['Loan_Amount_Term'].fillna(df_encoded['Loan_Amount_Term'].mean(), inplace = True)\n"
   ]
  },
  {
   "cell_type": "code",
   "execution_count": 10,
   "id": "proved-hardware",
   "metadata": {},
   "outputs": [
    {
     "data": {
      "text/plain": [
       "3"
      ]
     },
     "execution_count": 10,
     "metadata": {},
     "output_type": "execute_result"
    }
   ],
   "source": [
    "df_encoded.duplicated().sum() #to check weather any duplicate is avaliable or not"
   ]
  },
  {
   "cell_type": "code",
   "execution_count": 11,
   "id": "alive-notice",
   "metadata": {
    "scrolled": true
   },
   "outputs": [
    {
     "data": {
      "text/plain": [
       "LP001032    3\n",
       "LP001003    2\n",
       "LP001194    1\n",
       "LP001562    1\n",
       "LP001097    1\n",
       "           ..\n",
       "LP002234    1\n",
       "LP002110    1\n",
       "LP002911    1\n",
       "LP001636    1\n",
       "LP002281    1\n",
       "Name: Loan_ID, Length: 614, dtype: int64"
      ]
     },
     "execution_count": 11,
     "metadata": {},
     "output_type": "execute_result"
    }
   ],
   "source": [
    "df_encoded['Loan_ID'].value_counts()"
   ]
  },
  {
   "cell_type": "code",
   "execution_count": 12,
   "id": "impossible-cologne",
   "metadata": {},
   "outputs": [
    {
     "data": {
      "text/plain": [
       "(614, 13)"
      ]
     },
     "execution_count": 12,
     "metadata": {},
     "output_type": "execute_result"
    }
   ],
   "source": [
    "# to drop duplicate from table we use following code\n",
    "df_encoded.drop_duplicates(inplace = True)\n",
    "df_encoded.shape"
   ]
  },
  {
   "cell_type": "code",
   "execution_count": 13,
   "id": "decimal-springfield",
   "metadata": {
    "scrolled": true
   },
   "outputs": [
    {
     "data": {
      "text/html": [
       "<div>\n",
       "<style scoped>\n",
       "    .dataframe tbody tr th:only-of-type {\n",
       "        vertical-align: middle;\n",
       "    }\n",
       "\n",
       "    .dataframe tbody tr th {\n",
       "        vertical-align: top;\n",
       "    }\n",
       "\n",
       "    .dataframe thead th {\n",
       "        text-align: right;\n",
       "    }\n",
       "</style>\n",
       "<table border=\"1\" class=\"dataframe\">\n",
       "  <thead>\n",
       "    <tr style=\"text-align: right;\">\n",
       "      <th></th>\n",
       "      <th>Loan_ID</th>\n",
       "      <th>Gender</th>\n",
       "      <th>Married</th>\n",
       "      <th>Dependents</th>\n",
       "      <th>Education</th>\n",
       "      <th>Self_Employed</th>\n",
       "      <th>ApplicantIncome</th>\n",
       "      <th>CoapplicantIncome</th>\n",
       "      <th>LoanAmount</th>\n",
       "      <th>Loan_Amount_Term</th>\n",
       "      <th>Credit_History</th>\n",
       "      <th>Property_Area</th>\n",
       "      <th>Loan_Status</th>\n",
       "    </tr>\n",
       "  </thead>\n",
       "  <tbody>\n",
       "    <tr>\n",
       "      <th>0</th>\n",
       "      <td>LP001002</td>\n",
       "      <td>Male</td>\n",
       "      <td>No</td>\n",
       "      <td>0</td>\n",
       "      <td>Graduate</td>\n",
       "      <td>No</td>\n",
       "      <td>5849</td>\n",
       "      <td>0.0</td>\n",
       "      <td>146.309244</td>\n",
       "      <td>360.0</td>\n",
       "      <td>1.0</td>\n",
       "      <td>Urban</td>\n",
       "      <td>Y</td>\n",
       "    </tr>\n",
       "    <tr>\n",
       "      <th>1</th>\n",
       "      <td>LP001003</td>\n",
       "      <td>Male</td>\n",
       "      <td>Yes</td>\n",
       "      <td>1</td>\n",
       "      <td>Graduate</td>\n",
       "      <td>No</td>\n",
       "      <td>4583</td>\n",
       "      <td>1508.0</td>\n",
       "      <td>128.000000</td>\n",
       "      <td>360.0</td>\n",
       "      <td>1.0</td>\n",
       "      <td>Rural</td>\n",
       "      <td>N</td>\n",
       "    </tr>\n",
       "    <tr>\n",
       "      <th>3</th>\n",
       "      <td>LP001005</td>\n",
       "      <td>Male</td>\n",
       "      <td>Yes</td>\n",
       "      <td>0</td>\n",
       "      <td>Graduate</td>\n",
       "      <td>Yes</td>\n",
       "      <td>3000</td>\n",
       "      <td>0.0</td>\n",
       "      <td>66.000000</td>\n",
       "      <td>360.0</td>\n",
       "      <td>1.0</td>\n",
       "      <td>Urban</td>\n",
       "      <td>Y</td>\n",
       "    </tr>\n",
       "    <tr>\n",
       "      <th>4</th>\n",
       "      <td>LP001006</td>\n",
       "      <td>Male</td>\n",
       "      <td>Yes</td>\n",
       "      <td>0</td>\n",
       "      <td>Not Graduate</td>\n",
       "      <td>No</td>\n",
       "      <td>2583</td>\n",
       "      <td>2358.0</td>\n",
       "      <td>120.000000</td>\n",
       "      <td>360.0</td>\n",
       "      <td>1.0</td>\n",
       "      <td>Urban</td>\n",
       "      <td>Y</td>\n",
       "    </tr>\n",
       "    <tr>\n",
       "      <th>5</th>\n",
       "      <td>LP001008</td>\n",
       "      <td>Male</td>\n",
       "      <td>No</td>\n",
       "      <td>0</td>\n",
       "      <td>Graduate</td>\n",
       "      <td>No</td>\n",
       "      <td>6000</td>\n",
       "      <td>0.0</td>\n",
       "      <td>141.000000</td>\n",
       "      <td>360.0</td>\n",
       "      <td>1.0</td>\n",
       "      <td>Urban</td>\n",
       "      <td>Y</td>\n",
       "    </tr>\n",
       "    <tr>\n",
       "      <th>6</th>\n",
       "      <td>LP001011</td>\n",
       "      <td>Male</td>\n",
       "      <td>Yes</td>\n",
       "      <td>2</td>\n",
       "      <td>Graduate</td>\n",
       "      <td>Yes</td>\n",
       "      <td>5417</td>\n",
       "      <td>4196.0</td>\n",
       "      <td>267.000000</td>\n",
       "      <td>360.0</td>\n",
       "      <td>1.0</td>\n",
       "      <td>Urban</td>\n",
       "      <td>Y</td>\n",
       "    </tr>\n",
       "    <tr>\n",
       "      <th>7</th>\n",
       "      <td>LP001013</td>\n",
       "      <td>Male</td>\n",
       "      <td>Yes</td>\n",
       "      <td>0</td>\n",
       "      <td>Not Graduate</td>\n",
       "      <td>No</td>\n",
       "      <td>2333</td>\n",
       "      <td>1516.0</td>\n",
       "      <td>95.000000</td>\n",
       "      <td>360.0</td>\n",
       "      <td>1.0</td>\n",
       "      <td>Urban</td>\n",
       "      <td>Y</td>\n",
       "    </tr>\n",
       "    <tr>\n",
       "      <th>8</th>\n",
       "      <td>LP001014</td>\n",
       "      <td>Male</td>\n",
       "      <td>Yes</td>\n",
       "      <td>3+</td>\n",
       "      <td>Graduate</td>\n",
       "      <td>No</td>\n",
       "      <td>3036</td>\n",
       "      <td>2504.0</td>\n",
       "      <td>158.000000</td>\n",
       "      <td>360.0</td>\n",
       "      <td>0.0</td>\n",
       "      <td>Semiurban</td>\n",
       "      <td>N</td>\n",
       "    </tr>\n",
       "    <tr>\n",
       "      <th>9</th>\n",
       "      <td>LP001018</td>\n",
       "      <td>Male</td>\n",
       "      <td>Yes</td>\n",
       "      <td>2</td>\n",
       "      <td>Graduate</td>\n",
       "      <td>No</td>\n",
       "      <td>4006</td>\n",
       "      <td>1526.0</td>\n",
       "      <td>168.000000</td>\n",
       "      <td>360.0</td>\n",
       "      <td>1.0</td>\n",
       "      <td>Urban</td>\n",
       "      <td>Y</td>\n",
       "    </tr>\n",
       "    <tr>\n",
       "      <th>10</th>\n",
       "      <td>LP001020</td>\n",
       "      <td>Male</td>\n",
       "      <td>Yes</td>\n",
       "      <td>1</td>\n",
       "      <td>Graduate</td>\n",
       "      <td>No</td>\n",
       "      <td>12841</td>\n",
       "      <td>10968.0</td>\n",
       "      <td>349.000000</td>\n",
       "      <td>360.0</td>\n",
       "      <td>1.0</td>\n",
       "      <td>Semiurban</td>\n",
       "      <td>N</td>\n",
       "    </tr>\n",
       "  </tbody>\n",
       "</table>\n",
       "</div>"
      ],
      "text/plain": [
       "     Loan_ID Gender Married Dependents     Education Self_Employed  \\\n",
       "0   LP001002   Male      No          0      Graduate            No   \n",
       "1   LP001003   Male     Yes          1      Graduate            No   \n",
       "3   LP001005   Male     Yes          0      Graduate           Yes   \n",
       "4   LP001006   Male     Yes          0  Not Graduate            No   \n",
       "5   LP001008   Male      No          0      Graduate            No   \n",
       "6   LP001011   Male     Yes          2      Graduate           Yes   \n",
       "7   LP001013   Male     Yes          0  Not Graduate            No   \n",
       "8   LP001014   Male     Yes         3+      Graduate            No   \n",
       "9   LP001018   Male     Yes          2      Graduate            No   \n",
       "10  LP001020   Male     Yes          1      Graduate            No   \n",
       "\n",
       "    ApplicantIncome  CoapplicantIncome  LoanAmount  Loan_Amount_Term  \\\n",
       "0              5849                0.0  146.309244             360.0   \n",
       "1              4583             1508.0  128.000000             360.0   \n",
       "3              3000                0.0   66.000000             360.0   \n",
       "4              2583             2358.0  120.000000             360.0   \n",
       "5              6000                0.0  141.000000             360.0   \n",
       "6              5417             4196.0  267.000000             360.0   \n",
       "7              2333             1516.0   95.000000             360.0   \n",
       "8              3036             2504.0  158.000000             360.0   \n",
       "9              4006             1526.0  168.000000             360.0   \n",
       "10            12841            10968.0  349.000000             360.0   \n",
       "\n",
       "    Credit_History Property_Area Loan_Status  \n",
       "0              1.0         Urban           Y  \n",
       "1              1.0         Rural           N  \n",
       "3              1.0         Urban           Y  \n",
       "4              1.0         Urban           Y  \n",
       "5              1.0         Urban           Y  \n",
       "6              1.0         Urban           Y  \n",
       "7              1.0         Urban           Y  \n",
       "8              0.0     Semiurban           N  \n",
       "9              1.0         Urban           Y  \n",
       "10             1.0     Semiurban           N  "
      ]
     },
     "execution_count": 13,
     "metadata": {},
     "output_type": "execute_result"
    }
   ],
   "source": [
    "df_encoded.head(10)"
   ]
  },
  {
   "cell_type": "code",
   "execution_count": 14,
   "id": "foster-commander",
   "metadata": {},
   "outputs": [],
   "source": [
    "# handling special characters to string\n",
    "df_encoded['Dependents'] = df_encoded['Dependents'].astype(str)"
   ]
  },
  {
   "cell_type": "code",
   "execution_count": 15,
   "id": "approximate-operator",
   "metadata": {},
   "outputs": [],
   "source": [
    "from sklearn.preprocessing import LabelEncoder # class that change the text to numbers\n",
    "le = LabelEncoder()"
   ]
  },
  {
   "cell_type": "code",
   "execution_count": 16,
   "id": "worldwide-matthew",
   "metadata": {},
   "outputs": [],
   "source": [
    "# this will convert 'Gender' column into binary numbers 0 = Female or 1 = male\n",
    "df_encoded['Gender'] = le.fit_transform(df_encoded[\"Gender\"].values)\n",
    "# this will convert 'Married' column into binary numbers 0 = No or 1 = yes\n",
    "df_encoded['Married'] = le.fit_transform(df_encoded[\"Married\"].values)\n",
    "# this will convert 'Dependents' column into numbers 0,1,2,3\n",
    "df_encoded['Dependents'] = le.fit_transform(df_encoded[\"Dependents\"].values)\n",
    "# this will convert 'Education' column into binary numbers 0 = Graduate or 1 = Not Graduate\n",
    "df_encoded['Education'] = le.fit_transform(df_encoded[\"Education\"].values)\n",
    "# this will convert 'Self_Employed' column into binary numbers 0 = NO or 1 = Yes\n",
    "df_encoded['Self_Employed'] = le.fit_transform(df_encoded[\"Self_Employed\"].values)\n",
    "# this will convert 'Property_Area' column into binary numbers 0 = Rural or 1 = Semiurban 2 = urban\n",
    "df_encoded['Property_Area'] = le.fit_transform(df_encoded[\"Property_Area\"].values)\n",
    "# this will convert 'Loan_Status' column into binary numbers 0 = N or 1 = Y\n",
    "df_encoded['Loan_Status'] = le.fit_transform(df_encoded[\"Loan_Status\"].values)"
   ]
  },
  {
   "cell_type": "code",
   "execution_count": 17,
   "id": "critical-regression",
   "metadata": {},
   "outputs": [
    {
     "name": "stdout",
     "output_type": "stream",
     "text": [
      "Semiurban    233\n",
      "Urban        204\n",
      "Rural        180\n",
      "Name: Property_Area, dtype: int64\n"
     ]
    },
    {
     "data": {
      "text/plain": [
       "1    233\n",
       "2    202\n",
       "0    179\n",
       "Name: Property_Area, dtype: int64"
      ]
     },
     "execution_count": 17,
     "metadata": {},
     "output_type": "execute_result"
    }
   ],
   "source": [
    "print(df['Property_Area'].value_counts())\n",
    "df_encoded['Property_Area'].value_counts()"
   ]
  },
  {
   "cell_type": "code",
   "execution_count": 18,
   "id": "banned-ratio",
   "metadata": {},
   "outputs": [
    {
     "data": {
      "text/html": [
       "<div>\n",
       "<style scoped>\n",
       "    .dataframe tbody tr th:only-of-type {\n",
       "        vertical-align: middle;\n",
       "    }\n",
       "\n",
       "    .dataframe tbody tr th {\n",
       "        vertical-align: top;\n",
       "    }\n",
       "\n",
       "    .dataframe thead th {\n",
       "        text-align: right;\n",
       "    }\n",
       "</style>\n",
       "<table border=\"1\" class=\"dataframe\">\n",
       "  <thead>\n",
       "    <tr style=\"text-align: right;\">\n",
       "      <th></th>\n",
       "      <th>Loan_ID</th>\n",
       "      <th>Gender</th>\n",
       "      <th>Married</th>\n",
       "      <th>Dependents</th>\n",
       "      <th>Education</th>\n",
       "      <th>Self_Employed</th>\n",
       "      <th>ApplicantIncome</th>\n",
       "      <th>CoapplicantIncome</th>\n",
       "      <th>LoanAmount</th>\n",
       "      <th>Loan_Amount_Term</th>\n",
       "      <th>Credit_History</th>\n",
       "      <th>Property_Area</th>\n",
       "      <th>Loan_Status</th>\n",
       "    </tr>\n",
       "  </thead>\n",
       "  <tbody>\n",
       "    <tr>\n",
       "      <th>0</th>\n",
       "      <td>LP001002</td>\n",
       "      <td>1</td>\n",
       "      <td>0</td>\n",
       "      <td>0</td>\n",
       "      <td>0</td>\n",
       "      <td>0</td>\n",
       "      <td>5849</td>\n",
       "      <td>0.0</td>\n",
       "      <td>146.309244</td>\n",
       "      <td>360.0</td>\n",
       "      <td>1.0</td>\n",
       "      <td>2</td>\n",
       "      <td>1</td>\n",
       "    </tr>\n",
       "    <tr>\n",
       "      <th>1</th>\n",
       "      <td>LP001003</td>\n",
       "      <td>1</td>\n",
       "      <td>1</td>\n",
       "      <td>1</td>\n",
       "      <td>0</td>\n",
       "      <td>0</td>\n",
       "      <td>4583</td>\n",
       "      <td>1508.0</td>\n",
       "      <td>128.000000</td>\n",
       "      <td>360.0</td>\n",
       "      <td>1.0</td>\n",
       "      <td>0</td>\n",
       "      <td>0</td>\n",
       "    </tr>\n",
       "    <tr>\n",
       "      <th>3</th>\n",
       "      <td>LP001005</td>\n",
       "      <td>1</td>\n",
       "      <td>1</td>\n",
       "      <td>0</td>\n",
       "      <td>0</td>\n",
       "      <td>1</td>\n",
       "      <td>3000</td>\n",
       "      <td>0.0</td>\n",
       "      <td>66.000000</td>\n",
       "      <td>360.0</td>\n",
       "      <td>1.0</td>\n",
       "      <td>2</td>\n",
       "      <td>1</td>\n",
       "    </tr>\n",
       "    <tr>\n",
       "      <th>4</th>\n",
       "      <td>LP001006</td>\n",
       "      <td>1</td>\n",
       "      <td>1</td>\n",
       "      <td>0</td>\n",
       "      <td>1</td>\n",
       "      <td>0</td>\n",
       "      <td>2583</td>\n",
       "      <td>2358.0</td>\n",
       "      <td>120.000000</td>\n",
       "      <td>360.0</td>\n",
       "      <td>1.0</td>\n",
       "      <td>2</td>\n",
       "      <td>1</td>\n",
       "    </tr>\n",
       "    <tr>\n",
       "      <th>5</th>\n",
       "      <td>LP001008</td>\n",
       "      <td>1</td>\n",
       "      <td>0</td>\n",
       "      <td>0</td>\n",
       "      <td>0</td>\n",
       "      <td>0</td>\n",
       "      <td>6000</td>\n",
       "      <td>0.0</td>\n",
       "      <td>141.000000</td>\n",
       "      <td>360.0</td>\n",
       "      <td>1.0</td>\n",
       "      <td>2</td>\n",
       "      <td>1</td>\n",
       "    </tr>\n",
       "  </tbody>\n",
       "</table>\n",
       "</div>"
      ],
      "text/plain": [
       "    Loan_ID  Gender  Married  Dependents  Education  Self_Employed  \\\n",
       "0  LP001002       1        0           0          0              0   \n",
       "1  LP001003       1        1           1          0              0   \n",
       "3  LP001005       1        1           0          0              1   \n",
       "4  LP001006       1        1           0          1              0   \n",
       "5  LP001008       1        0           0          0              0   \n",
       "\n",
       "   ApplicantIncome  CoapplicantIncome  LoanAmount  Loan_Amount_Term  \\\n",
       "0             5849                0.0  146.309244             360.0   \n",
       "1             4583             1508.0  128.000000             360.0   \n",
       "3             3000                0.0   66.000000             360.0   \n",
       "4             2583             2358.0  120.000000             360.0   \n",
       "5             6000                0.0  141.000000             360.0   \n",
       "\n",
       "   Credit_History  Property_Area  Loan_Status  \n",
       "0             1.0              2            1  \n",
       "1             1.0              0            0  \n",
       "3             1.0              2            1  \n",
       "4             1.0              2            1  \n",
       "5             1.0              2            1  "
      ]
     },
     "execution_count": 18,
     "metadata": {},
     "output_type": "execute_result"
    }
   ],
   "source": [
    "df_encoded.head()"
   ]
  },
  {
   "cell_type": "code",
   "execution_count": 19,
   "id": "removable-niger",
   "metadata": {},
   "outputs": [
    {
     "data": {
      "text/plain": [
       "1    422\n",
       "0    192\n",
       "Name: Loan_Status, dtype: int64"
      ]
     },
     "execution_count": 19,
     "metadata": {},
     "output_type": "execute_result"
    }
   ],
   "source": [
    "df_encoded['Loan_Status'].value_counts()"
   ]
  },
  {
   "cell_type": "markdown",
   "id": "sustainable-chapter",
   "metadata": {},
   "source": [
    "# Spliting data for training and testing"
   ]
  },
  {
   "cell_type": "code",
   "execution_count": 20,
   "id": "royal-adobe",
   "metadata": {},
   "outputs": [],
   "source": [
    "from sklearn.model_selection import train_test_split #import train_test_split function to random creation of train data and test data"
   ]
  },
  {
   "cell_type": "code",
   "execution_count": 21,
   "id": "virtual-validation",
   "metadata": {},
   "outputs": [
    {
     "data": {
      "text/plain": [
       "Index(['Loan_ID', 'Gender', 'Married', 'Dependents', 'Education',\n",
       "       'Self_Employed', 'ApplicantIncome', 'CoapplicantIncome', 'LoanAmount',\n",
       "       'Loan_Amount_Term', 'Credit_History', 'Property_Area', 'Loan_Status'],\n",
       "      dtype='object')"
      ]
     },
     "execution_count": 21,
     "metadata": {},
     "output_type": "execute_result"
    }
   ],
   "source": [
    "df_encoded.columns"
   ]
  },
  {
   "cell_type": "code",
   "execution_count": 22,
   "id": "novel-ceremony",
   "metadata": {},
   "outputs": [],
   "source": [
    "# define the input features\n",
    "feature_cols = ['Gender', 'Married', 'Dependents', 'Education',\n",
    "       'Self_Employed', 'ApplicantIncome', 'CoapplicantIncome', 'LoanAmount',\n",
    "       'Loan_Amount_Term', 'Credit_History', 'Property_Area']\n",
    "\n",
    "X = df_encoded[feature_cols] #define the input features\n",
    "y = df_encoded['Loan_Status'] #define the dependent variable\n"
   ]
  },
  {
   "cell_type": "code",
   "execution_count": 23,
   "id": "stylish-northwest",
   "metadata": {},
   "outputs": [],
   "source": [
    "# 70% of data is to train the model, 30% for testing the model\n",
    "X_train, X_test, y_train, y_test = train_test_split(X,y, test_size=0.3, random_state=1)"
   ]
  },
  {
   "cell_type": "markdown",
   "id": "coastal-zambia",
   "metadata": {},
   "source": [
    "# Applying algorithm"
   ]
  },
  {
   "cell_type": "code",
   "execution_count": 24,
   "id": "moderate-lending",
   "metadata": {},
   "outputs": [],
   "source": [
    "from sklearn.tree import DecisionTreeClassifier # Import Decision Tree Classifier "
   ]
  },
  {
   "cell_type": "code",
   "execution_count": 25,
   "id": "crucial-experiment",
   "metadata": {},
   "outputs": [],
   "source": [
    "# clf = DecisionTreeClassifier(random_state=1) # create the decision tree classsifier\n",
    "clf = DecisionTreeClassifier(criterion=\"entropy\",random_state=1, max_depth=2) # create a decision tree classifier with entropy and pruning\n",
    "clf = clf.fit(X_train, y_train) # fit the model"
   ]
  },
  {
   "cell_type": "code",
   "execution_count": 26,
   "id": "painful-couple",
   "metadata": {},
   "outputs": [
    {
     "name": "stdout",
     "output_type": "stream",
     "text": [
      "Accuracy : 78.91891891891892\n"
     ]
    }
   ],
   "source": [
    "# predict the test values\n",
    "y_pred = clf.predict(X_test)\n",
    "\n",
    "from sklearn import metrics\n",
    "# Model Accuracy\n",
    "print(\"Accuracy :\", metrics.accuracy_score(y_test,y_pred)*100)"
   ]
  },
  {
   "cell_type": "code",
   "execution_count": 27,
   "id": "ranging-hanging",
   "metadata": {},
   "outputs": [
    {
     "name": "stdout",
     "output_type": "stream",
     "text": [
      "[[ 25  36]\n",
      " [  3 121]]\n"
     ]
    }
   ],
   "source": [
    "# build a confusion metrix\n",
    "print(metrics.confusion_matrix(y_test,y_pred))"
   ]
  },
  {
   "cell_type": "code",
   "execution_count": 29,
   "id": "potential-survivor",
   "metadata": {},
   "outputs": [],
   "source": [
    "df_encoded.to_csv('Encoded_Loan_data.csv',index = False)"
   ]
  },
  {
   "cell_type": "code",
   "execution_count": null,
   "id": "wrong-joint",
   "metadata": {},
   "outputs": [],
   "source": []
  }
 ],
 "metadata": {
  "kernelspec": {
   "display_name": "Python 3",
   "language": "python",
   "name": "python3"
  },
  "language_info": {
   "codemirror_mode": {
    "name": "ipython",
    "version": 3
   },
   "file_extension": ".py",
   "mimetype": "text/x-python",
   "name": "python",
   "nbconvert_exporter": "python",
   "pygments_lexer": "ipython3",
   "version": "3.7.9"
  }
 },
 "nbformat": 4,
 "nbformat_minor": 5
}
